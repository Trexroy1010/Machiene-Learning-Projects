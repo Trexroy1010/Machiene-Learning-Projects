{
  "nbformat": 4,
  "nbformat_minor": 0,
  "metadata": {
    "colab": {
      "provenance": [],
      "gpuType": "T4",
      "authorship_tag": "ABX9TyNn2vWbsjYINm2SEnhFvC2H",
      "include_colab_link": true
    },
    "kernelspec": {
      "name": "python3",
      "display_name": "Python 3"
    },
    "language_info": {
      "name": "python"
    },
    "accelerator": "GPU"
  },
  "cells": [
    {
      "cell_type": "markdown",
      "metadata": {
        "id": "view-in-github",
        "colab_type": "text"
      },
      "source": [
        "<a href=\"https://colab.research.google.com/github/Trexroy1010/Machiene-Learning-Projects/blob/main/LSTMRNN.ipynb\" target=\"_parent\"><img src=\"https://colab.research.google.com/assets/colab-badge.svg\" alt=\"Open In Colab\"/></a>"
      ]
    },
    {
      "cell_type": "code",
      "execution_count": 38,
      "metadata": {
        "colab": {
          "base_uri": "https://localhost:8080/"
        },
        "id": "nfFXsoAPWsRr",
        "outputId": "9a943b94-b54f-4842-c9dc-40e41858a625"
      },
      "outputs": [
        {
          "output_type": "stream",
          "name": "stdout",
          "text": [
            "TensorFlow Version: 2.19.0\n",
            "Num GPUs Available: 1\n",
            "GPU Devices: [PhysicalDevice(name='/physical_device:GPU:0', device_type='GPU')]\n"
          ]
        }
      ],
      "source": [
        "import tensorflow as tf\n",
        "print(\"TensorFlow Version:\", tf.__version__)\n",
        "print(\"Num GPUs Available:\", len(tf.config.list_physical_devices('GPU')))\n",
        "if len(tf.config.list_physical_devices('GPU')) > 0:\n",
        "    print(\"GPU Devices:\", tf.config.list_physical_devices('GPU'))"
      ]
    },
    {
      "cell_type": "code",
      "source": [
        "from tensorflow.keras.preprocessing.text import one_hot"
      ],
      "metadata": {
        "id": "N_YNXaGrb_7H"
      },
      "execution_count": 39,
      "outputs": []
    },
    {
      "cell_type": "code",
      "source": [
        "sent = [\n",
        "    'the glass of milk',\n",
        "    'the cup of tea',\n",
        "    'I am a good boy',\n",
        "    'the glass of juice',\n",
        "    'I am a good developer',\n",
        "    'Understand the meaning of words',\n",
        "    'your videos are goos'\n",
        "]"
      ],
      "metadata": {
        "id": "brHFWGieVRUr"
      },
      "execution_count": 40,
      "outputs": []
    },
    {
      "cell_type": "code",
      "source": [
        "sent"
      ],
      "metadata": {
        "colab": {
          "base_uri": "https://localhost:8080/"
        },
        "id": "x0r6XLinVqNu",
        "outputId": "866ddea5-425b-4c05-bde2-f7316f4298eb"
      },
      "execution_count": 41,
      "outputs": [
        {
          "output_type": "execute_result",
          "data": {
            "text/plain": [
              "['the glass of milk',\n",
              " 'the cup of tea',\n",
              " 'I am a good boy',\n",
              " 'the glass of juice',\n",
              " 'I am a good developer',\n",
              " 'Understand the meaning of words',\n",
              " 'your videos are goos']"
            ]
          },
          "metadata": {},
          "execution_count": 41
        }
      ]
    },
    {
      "cell_type": "code",
      "source": [
        "vocabulary_size = 500"
      ],
      "metadata": {
        "id": "JwZyG5SwVr91"
      },
      "execution_count": 42,
      "outputs": []
    },
    {
      "cell_type": "code",
      "source": [],
      "metadata": {
        "id": "FJXTRk915VC1"
      },
      "execution_count": 42,
      "outputs": []
    },
    {
      "cell_type": "code",
      "source": [
        "onehot_repr = [one_hot(words, vocabulary_size) for words in sent]"
      ],
      "metadata": {
        "id": "pb5Fe3T_Vvi9"
      },
      "execution_count": 43,
      "outputs": []
    },
    {
      "cell_type": "code",
      "source": [
        "onehot_repr"
      ],
      "metadata": {
        "colab": {
          "base_uri": "https://localhost:8080/"
        },
        "id": "CsTIVxNeWAkH",
        "outputId": "0068ef99-2464-4165-b396-b0f1963d3ff8"
      },
      "execution_count": 44,
      "outputs": [
        {
          "output_type": "execute_result",
          "data": {
            "text/plain": [
              "[[78, 219, 421, 111],\n",
              " [78, 435, 421, 380],\n",
              " [336, 106, 406, 345, 420],\n",
              " [78, 219, 421, 290],\n",
              " [336, 106, 406, 345, 270],\n",
              " [136, 78, 384, 421, 101],\n",
              " [265, 498, 153, 372]]"
            ]
          },
          "metadata": {},
          "execution_count": 44
        }
      ]
    },
    {
      "cell_type": "code",
      "source": [
        "#to embedd a sentence wer need to have all of them the same amount of words, which is why we are gonna do padding, post and pre.\n"
      ],
      "metadata": {
        "id": "EqfbPwxnWHMX"
      },
      "execution_count": 45,
      "outputs": []
    },
    {
      "cell_type": "code",
      "source": [
        "from tensorflow.keras.layers import Embedding\n",
        "from tensorflow.keras.preprocessing.sequence import pad_sequences\n",
        "from tensorflow.keras.models import Sequential"
      ],
      "metadata": {
        "id": "pvDTFzlEWCjf"
      },
      "execution_count": 46,
      "outputs": []
    },
    {
      "cell_type": "code",
      "source": [
        "import numpy as np\n"
      ],
      "metadata": {
        "id": "78w711_h2z70"
      },
      "execution_count": 47,
      "outputs": []
    },
    {
      "cell_type": "code",
      "source": [
        "sent_length = 8\n",
        "#we assume that the maimum sentence length is 8"
      ],
      "metadata": {
        "id": "pLNL1zwP23wl"
      },
      "execution_count": 48,
      "outputs": []
    },
    {
      "cell_type": "code",
      "source": [
        "embeded_doc = pad_sequences(onehot_repr,padding='pre', maxlen=sent_length)\n",
        "print(embeded_doc)\n",
        "#pre padding adds the required number of zeros before your sentences or array in order to amke them of the same length, for post it will be added after the sentence"
      ],
      "metadata": {
        "colab": {
          "base_uri": "https://localhost:8080/"
        },
        "id": "Cj-bvXND282d",
        "outputId": "6a422e1f-7b27-4b34-e939-11253626f2cd"
      },
      "execution_count": 49,
      "outputs": [
        {
          "output_type": "stream",
          "name": "stdout",
          "text": [
            "[[  0   0   0   0  78 219 421 111]\n",
            " [  0   0   0   0  78 435 421 380]\n",
            " [  0   0   0 336 106 406 345 420]\n",
            " [  0   0   0   0  78 219 421 290]\n",
            " [  0   0   0 336 106 406 345 270]\n",
            " [  0   0   0 136  78 384 421 101]\n",
            " [  0   0   0   0 265 498 153 372]]\n"
          ]
        }
      ]
    },
    {
      "cell_type": "code",
      "source": [
        "#now we convert every value to vectors\n",
        "#10 feature dimention\n",
        "dim = 10"
      ],
      "metadata": {
        "id": "jHVud2v2Vq_N"
      },
      "execution_count": 50,
      "outputs": []
    },
    {
      "cell_type": "code",
      "source": [],
      "metadata": {
        "id": "f4TXw3eb5EKj"
      },
      "execution_count": 50,
      "outputs": []
    },
    {
      "cell_type": "code",
      "source": [
        "model = Sequential()\n",
        "model.add(Embedding(vocabulary_size,10,input_length = sent_length))\n",
        "model.compile('adam','mse')\n",
        "#adam optimiser and mean square error loss function"
      ],
      "metadata": {
        "colab": {
          "base_uri": "https://localhost:8080/"
        },
        "id": "mkzXp8g-4rmh",
        "outputId": "676a6e32-ab9d-41eb-9927-d56394a194eb"
      },
      "execution_count": 51,
      "outputs": [
        {
          "output_type": "stream",
          "name": "stderr",
          "text": [
            "/usr/local/lib/python3.11/dist-packages/keras/src/layers/core/embedding.py:97: UserWarning: Argument `input_length` is deprecated. Just remove it.\n",
            "  warnings.warn(\n"
          ]
        }
      ]
    },
    {
      "cell_type": "code",
      "source": [
        "model.summary()"
      ],
      "metadata": {
        "colab": {
          "base_uri": "https://localhost:8080/",
          "height": 170
        },
        "id": "VL2n0wo546vC",
        "outputId": "4b73b564-de8a-43b7-a560-eedb0c1b2cf1"
      },
      "execution_count": 52,
      "outputs": [
        {
          "output_type": "display_data",
          "data": {
            "text/plain": [
              "\u001b[1mModel: \"sequential_6\"\u001b[0m\n"
            ],
            "text/html": [
              "<pre style=\"white-space:pre;overflow-x:auto;line-height:normal;font-family:Menlo,'DejaVu Sans Mono',consolas,'Courier New',monospace\"><span style=\"font-weight: bold\">Model: \"sequential_6\"</span>\n",
              "</pre>\n"
            ]
          },
          "metadata": {}
        },
        {
          "output_type": "display_data",
          "data": {
            "text/plain": [
              "┏━━━━━━━━━━━━━━━━━━━━━━━━━━━━━━━━━┳━━━━━━━━━━━━━━━━━━━━━━━━┳━━━━━━━━━━━━━━━┓\n",
              "┃\u001b[1m \u001b[0m\u001b[1mLayer (type)                   \u001b[0m\u001b[1m \u001b[0m┃\u001b[1m \u001b[0m\u001b[1mOutput Shape          \u001b[0m\u001b[1m \u001b[0m┃\u001b[1m \u001b[0m\u001b[1m      Param #\u001b[0m\u001b[1m \u001b[0m┃\n",
              "┡━━━━━━━━━━━━━━━━━━━━━━━━━━━━━━━━━╇━━━━━━━━━━━━━━━━━━━━━━━━╇━━━━━━━━━━━━━━━┩\n",
              "│ embedding_6 (\u001b[38;5;33mEmbedding\u001b[0m)         │ ?                      │   \u001b[38;5;34m0\u001b[0m (unbuilt) │\n",
              "└─────────────────────────────────┴────────────────────────┴───────────────┘\n"
            ],
            "text/html": [
              "<pre style=\"white-space:pre;overflow-x:auto;line-height:normal;font-family:Menlo,'DejaVu Sans Mono',consolas,'Courier New',monospace\">┏━━━━━━━━━━━━━━━━━━━━━━━━━━━━━━━━━┳━━━━━━━━━━━━━━━━━━━━━━━━┳━━━━━━━━━━━━━━━┓\n",
              "┃<span style=\"font-weight: bold\"> Layer (type)                    </span>┃<span style=\"font-weight: bold\"> Output Shape           </span>┃<span style=\"font-weight: bold\">       Param # </span>┃\n",
              "┡━━━━━━━━━━━━━━━━━━━━━━━━━━━━━━━━━╇━━━━━━━━━━━━━━━━━━━━━━━━╇━━━━━━━━━━━━━━━┩\n",
              "│ embedding_6 (<span style=\"color: #0087ff; text-decoration-color: #0087ff\">Embedding</span>)         │ ?                      │   <span style=\"color: #00af00; text-decoration-color: #00af00\">0</span> (unbuilt) │\n",
              "└─────────────────────────────────┴────────────────────────┴───────────────┘\n",
              "</pre>\n"
            ]
          },
          "metadata": {}
        },
        {
          "output_type": "display_data",
          "data": {
            "text/plain": [
              "\u001b[1m Total params: \u001b[0m\u001b[38;5;34m0\u001b[0m (0.00 B)\n"
            ],
            "text/html": [
              "<pre style=\"white-space:pre;overflow-x:auto;line-height:normal;font-family:Menlo,'DejaVu Sans Mono',consolas,'Courier New',monospace\"><span style=\"font-weight: bold\"> Total params: </span><span style=\"color: #00af00; text-decoration-color: #00af00\">0</span> (0.00 B)\n",
              "</pre>\n"
            ]
          },
          "metadata": {}
        },
        {
          "output_type": "display_data",
          "data": {
            "text/plain": [
              "\u001b[1m Trainable params: \u001b[0m\u001b[38;5;34m0\u001b[0m (0.00 B)\n"
            ],
            "text/html": [
              "<pre style=\"white-space:pre;overflow-x:auto;line-height:normal;font-family:Menlo,'DejaVu Sans Mono',consolas,'Courier New',monospace\"><span style=\"font-weight: bold\"> Trainable params: </span><span style=\"color: #00af00; text-decoration-color: #00af00\">0</span> (0.00 B)\n",
              "</pre>\n"
            ]
          },
          "metadata": {}
        },
        {
          "output_type": "display_data",
          "data": {
            "text/plain": [
              "\u001b[1m Non-trainable params: \u001b[0m\u001b[38;5;34m0\u001b[0m (0.00 B)\n"
            ],
            "text/html": [
              "<pre style=\"white-space:pre;overflow-x:auto;line-height:normal;font-family:Menlo,'DejaVu Sans Mono',consolas,'Courier New',monospace\"><span style=\"font-weight: bold\"> Non-trainable params: </span><span style=\"color: #00af00; text-decoration-color: #00af00\">0</span> (0.00 B)\n",
              "</pre>\n"
            ]
          },
          "metadata": {}
        }
      ]
    },
    {
      "cell_type": "code",
      "source": [],
      "metadata": {
        "id": "g_XPSPLu6W3D"
      },
      "execution_count": 52,
      "outputs": []
    },
    {
      "cell_type": "markdown",
      "source": [],
      "metadata": {
        "id": "SlKatZaj5mIP"
      }
    },
    {
      "cell_type": "code",
      "source": [
        "model.predict(embeded_doc[0])"
      ],
      "metadata": {
        "colab": {
          "base_uri": "https://localhost:8080/"
        },
        "id": "uU7FBLS05WoF",
        "outputId": "89aa4cf9-5d24-4920-9492-10bcf73d046b"
      },
      "execution_count": 53,
      "outputs": [
        {
          "output_type": "stream",
          "name": "stdout",
          "text": [
            "\u001b[1m1/1\u001b[0m \u001b[32m━━━━━━━━━━━━━━━━━━━━\u001b[0m\u001b[37m\u001b[0m \u001b[1m0s\u001b[0m 224ms/step\n"
          ]
        },
        {
          "output_type": "execute_result",
          "data": {
            "text/plain": [
              "array([[ 0.02416224,  0.00924484, -0.03038291,  0.01709691,  0.02405841,\n",
              "        -0.04313176,  0.04080135, -0.0275064 ,  0.00626898,  0.00528984],\n",
              "       [ 0.02416224,  0.00924484, -0.03038291,  0.01709691,  0.02405841,\n",
              "        -0.04313176,  0.04080135, -0.0275064 ,  0.00626898,  0.00528984],\n",
              "       [ 0.02416224,  0.00924484, -0.03038291,  0.01709691,  0.02405841,\n",
              "        -0.04313176,  0.04080135, -0.0275064 ,  0.00626898,  0.00528984],\n",
              "       [ 0.02416224,  0.00924484, -0.03038291,  0.01709691,  0.02405841,\n",
              "        -0.04313176,  0.04080135, -0.0275064 ,  0.00626898,  0.00528984],\n",
              "       [ 0.04628048,  0.04819543,  0.03344237,  0.02311743, -0.0066568 ,\n",
              "        -0.03149153, -0.01596291, -0.01323781,  0.01808708, -0.00808973],\n",
              "       [-0.01439399,  0.02753698, -0.01445884,  0.02327036, -0.00082431,\n",
              "         0.00522799,  0.027661  ,  0.04792384,  0.04797474, -0.01212472],\n",
              "       [ 0.01742706,  0.03610262, -0.03482495, -0.0492611 , -0.01380608,\n",
              "        -0.01545124, -0.01381781, -0.02579559, -0.03519888,  0.01093828],\n",
              "       [-0.01099353, -0.04129964,  0.04465191,  0.03970757,  0.03152191,\n",
              "        -0.00992986, -0.01516164, -0.03917444,  0.04326716,  0.0321072 ]],\n",
              "      dtype=float32)"
            ]
          },
          "metadata": {},
          "execution_count": 53
        }
      ]
    },
    {
      "cell_type": "markdown",
      "source": [
        "[-0.04719212,  0.02650965, -0.01282742, -0.03290919, -0.02124256,\n",
        "        -0.04588982, -0.01510155,  0.01483608,  0.01468216,  0.04167557], represents 0, the padding value we added at the begiining, each 10 numbers on each array reppresents each lines/"
      ],
      "metadata": {
        "id": "FMPMb11M6lHe"
      }
    },
    {
      "cell_type": "code",
      "source": [
        "#assignment\n",
        "sentence = [\"The world is a better place\",\n",
        "            \"Marvel series is my favorite movie\",\n",
        "            \"I like DC movies\",\n",
        "            \"The cat is eating the food\",\n",
        "            \"Tom and Jerry is my favorite movie\",\n",
        "            \"Python is my favorite programming Language\"]"
      ],
      "metadata": {
        "id": "b9CBNzsP684H"
      },
      "execution_count": 54,
      "outputs": []
    },
    {
      "cell_type": "code",
      "source": [
        "onehot_encoding = [one_hot(words, vocabulary_size) for words in sentence]"
      ],
      "metadata": {
        "id": "oU5oJI_g64q2"
      },
      "execution_count": 55,
      "outputs": []
    },
    {
      "cell_type": "code",
      "source": [
        "onehot_encoding"
      ],
      "metadata": {
        "colab": {
          "base_uri": "https://localhost:8080/"
        },
        "id": "MrJi0jq59McF",
        "outputId": "d87a3d6a-2fa3-4dfc-c6fb-ceec0d41912b"
      },
      "execution_count": 56,
      "outputs": [
        {
          "output_type": "execute_result",
          "data": {
            "text/plain": [
              "[[78, 372, 109, 406, 359, 51],\n",
              " [331, 487, 109, 156, 378, 387],\n",
              " [336, 172, 421, 152],\n",
              " [78, 130, 109, 391, 78, 38],\n",
              " [11, 56, 236, 109, 156, 378, 387],\n",
              " [454, 109, 156, 378, 224, 461]]"
            ]
          },
          "metadata": {},
          "execution_count": 56
        }
      ]
    },
    {
      "cell_type": "code",
      "source": [
        "sentence_length_max = 10\n",
        "embeded_doc2 = pad_sequences(onehot_encoding,padding='pre', maxlen=sentence_length_max)\n",
        "print(embeded_doc2)"
      ],
      "metadata": {
        "colab": {
          "base_uri": "https://localhost:8080/"
        },
        "id": "DkCseRIR9BrG",
        "outputId": "d20380ec-aba8-4ae8-d266-17a93276253b"
      },
      "execution_count": 60,
      "outputs": [
        {
          "output_type": "stream",
          "name": "stdout",
          "text": [
            "[[  0   0   0   0  78 372 109 406 359  51]\n",
            " [  0   0   0   0 331 487 109 156 378 387]\n",
            " [  0   0   0   0   0   0 336 172 421 152]\n",
            " [  0   0   0   0  78 130 109 391  78  38]\n",
            " [  0   0   0  11  56 236 109 156 378 387]\n",
            " [  0   0   0   0 454 109 156 378 224 461]]\n"
          ]
        }
      ]
    },
    {
      "cell_type": "code",
      "source": [
        "dimentions = 10\n",
        "model = Sequential()\n",
        "model.add(Embedding(vocabulary_size,10,input_length = sentence_length_max))\n",
        "model.compile('adam','mse')"
      ],
      "metadata": {
        "colab": {
          "base_uri": "https://localhost:8080/"
        },
        "id": "KZNnuRAQ95Pr",
        "outputId": "84ca3bb9-85df-46af-929f-90b172f29528"
      },
      "execution_count": 61,
      "outputs": [
        {
          "output_type": "stream",
          "name": "stderr",
          "text": [
            "/usr/local/lib/python3.11/dist-packages/keras/src/layers/core/embedding.py:97: UserWarning: Argument `input_length` is deprecated. Just remove it.\n",
            "  warnings.warn(\n"
          ]
        }
      ]
    },
    {
      "cell_type": "code",
      "source": [
        "model.predict(embeded_doc2)"
      ],
      "metadata": {
        "colab": {
          "base_uri": "https://localhost:8080/"
        },
        "id": "qRc08Bec-KAc",
        "outputId": "e4cb8a34-72b2-41e1-9a15-13a5fcfe2941"
      },
      "execution_count": 62,
      "outputs": [
        {
          "output_type": "stream",
          "name": "stdout",
          "text": [
            "\u001b[1m1/1\u001b[0m \u001b[32m━━━━━━━━━━━━━━━━━━━━\u001b[0m\u001b[37m\u001b[0m \u001b[1m0s\u001b[0m 292ms/step\n"
          ]
        },
        {
          "output_type": "execute_result",
          "data": {
            "text/plain": [
              "array([[[-0.03483992, -0.04251238, -0.02575568,  0.00796112,\n",
              "         -0.03912268,  0.04616605, -0.00463507,  0.02381155,\n",
              "          0.04622394,  0.01342703],\n",
              "        [-0.03483992, -0.04251238, -0.02575568,  0.00796112,\n",
              "         -0.03912268,  0.04616605, -0.00463507,  0.02381155,\n",
              "          0.04622394,  0.01342703],\n",
              "        [-0.03483992, -0.04251238, -0.02575568,  0.00796112,\n",
              "         -0.03912268,  0.04616605, -0.00463507,  0.02381155,\n",
              "          0.04622394,  0.01342703],\n",
              "        [-0.03483992, -0.04251238, -0.02575568,  0.00796112,\n",
              "         -0.03912268,  0.04616605, -0.00463507,  0.02381155,\n",
              "          0.04622394,  0.01342703],\n",
              "        [ 0.04036308,  0.00118702,  0.01739726,  0.00426097,\n",
              "          0.01394546, -0.03161149,  0.01747653, -0.04898744,\n",
              "         -0.01412336,  0.04394903],\n",
              "        [-0.04254203, -0.00381836,  0.00937314,  0.04438777,\n",
              "         -0.01973791,  0.0334834 ,  0.02364154,  0.01152766,\n",
              "         -0.00074066,  0.01228545],\n",
              "        [ 0.03178569,  0.00889397,  0.03034687,  0.04686023,\n",
              "         -0.04091197, -0.00496893,  0.03253493,  0.04988842,\n",
              "          0.02917843, -0.01522108],\n",
              "        [-0.01157827,  0.01350334,  0.01468622, -0.00352116,\n",
              "         -0.01351228,  0.00086744,  0.01543048,  0.01292347,\n",
              "         -0.01382005, -0.03092684],\n",
              "        [ 0.02566201, -0.0176716 , -0.00943523, -0.02482249,\n",
              "         -0.0453714 ,  0.04548799,  0.00920012, -0.01052118,\n",
              "          0.0398205 ,  0.0250474 ],\n",
              "        [ 0.01595665, -0.0195881 ,  0.04663307,  0.02454913,\n",
              "         -0.04243552, -0.02126603, -0.01618595, -0.02357643,\n",
              "          0.01741499, -0.04342767]],\n",
              "\n",
              "       [[-0.03483992, -0.04251238, -0.02575568,  0.00796112,\n",
              "         -0.03912268,  0.04616605, -0.00463507,  0.02381155,\n",
              "          0.04622394,  0.01342703],\n",
              "        [-0.03483992, -0.04251238, -0.02575568,  0.00796112,\n",
              "         -0.03912268,  0.04616605, -0.00463507,  0.02381155,\n",
              "          0.04622394,  0.01342703],\n",
              "        [-0.03483992, -0.04251238, -0.02575568,  0.00796112,\n",
              "         -0.03912268,  0.04616605, -0.00463507,  0.02381155,\n",
              "          0.04622394,  0.01342703],\n",
              "        [-0.03483992, -0.04251238, -0.02575568,  0.00796112,\n",
              "         -0.03912268,  0.04616605, -0.00463507,  0.02381155,\n",
              "          0.04622394,  0.01342703],\n",
              "        [-0.0133968 , -0.00331727, -0.04944902,  0.04786687,\n",
              "          0.02602259, -0.02663406, -0.02618479, -0.01429107,\n",
              "          0.01909379, -0.02854041],\n",
              "        [ 0.04129374,  0.01319342,  0.02142126, -0.0232631 ,\n",
              "          0.03730131,  0.01175059, -0.00348111,  0.01790556,\n",
              "         -0.00821291, -0.03522231],\n",
              "        [ 0.03178569,  0.00889397,  0.03034687,  0.04686023,\n",
              "         -0.04091197, -0.00496893,  0.03253493,  0.04988842,\n",
              "          0.02917843, -0.01522108],\n",
              "        [ 0.03383989,  0.03364183,  0.03880392,  0.02865562,\n",
              "         -0.04257429,  0.04154081, -0.02222142,  0.00299085,\n",
              "         -0.02897344,  0.0422379 ],\n",
              "        [-0.04307627, -0.04073706, -0.01814268,  0.0291535 ,\n",
              "          0.04610832,  0.01479342, -0.02062835, -0.02848917,\n",
              "          0.03483418,  0.03488541],\n",
              "        [-0.01390467,  0.0349784 ,  0.03753999,  0.01465409,\n",
              "          0.04593904,  0.01851184, -0.01524665, -0.01769879,\n",
              "         -0.00691723, -0.02735742]],\n",
              "\n",
              "       [[-0.03483992, -0.04251238, -0.02575568,  0.00796112,\n",
              "         -0.03912268,  0.04616605, -0.00463507,  0.02381155,\n",
              "          0.04622394,  0.01342703],\n",
              "        [-0.03483992, -0.04251238, -0.02575568,  0.00796112,\n",
              "         -0.03912268,  0.04616605, -0.00463507,  0.02381155,\n",
              "          0.04622394,  0.01342703],\n",
              "        [-0.03483992, -0.04251238, -0.02575568,  0.00796112,\n",
              "         -0.03912268,  0.04616605, -0.00463507,  0.02381155,\n",
              "          0.04622394,  0.01342703],\n",
              "        [-0.03483992, -0.04251238, -0.02575568,  0.00796112,\n",
              "         -0.03912268,  0.04616605, -0.00463507,  0.02381155,\n",
              "          0.04622394,  0.01342703],\n",
              "        [-0.03483992, -0.04251238, -0.02575568,  0.00796112,\n",
              "         -0.03912268,  0.04616605, -0.00463507,  0.02381155,\n",
              "          0.04622394,  0.01342703],\n",
              "        [-0.03483992, -0.04251238, -0.02575568,  0.00796112,\n",
              "         -0.03912268,  0.04616605, -0.00463507,  0.02381155,\n",
              "          0.04622394,  0.01342703],\n",
              "        [-0.00970154, -0.00081221, -0.03671017,  0.03948804,\n",
              "          0.00072167, -0.01402439, -0.01622959,  0.01834099,\n",
              "         -0.03317956,  0.02008568],\n",
              "        [-0.02437122,  0.00690696,  0.00300801,  0.02227168,\n",
              "         -0.00939045,  0.04766803,  0.0315346 ,  0.01876989,\n",
              "          0.04389911, -0.00163524],\n",
              "        [ 0.00756323,  0.00620011, -0.01239861,  0.03748676,\n",
              "          0.02424835, -0.02591391, -0.03970329, -0.01463429,\n",
              "          0.02948895, -0.02149005],\n",
              "        [-0.02766396, -0.03114133,  0.04473208,  0.02120534,\n",
              "         -0.0476288 ,  0.01389203, -0.00576572, -0.02677226,\n",
              "         -0.04359764, -0.02926116]],\n",
              "\n",
              "       [[-0.03483992, -0.04251238, -0.02575568,  0.00796112,\n",
              "         -0.03912268,  0.04616605, -0.00463507,  0.02381155,\n",
              "          0.04622394,  0.01342703],\n",
              "        [-0.03483992, -0.04251238, -0.02575568,  0.00796112,\n",
              "         -0.03912268,  0.04616605, -0.00463507,  0.02381155,\n",
              "          0.04622394,  0.01342703],\n",
              "        [-0.03483992, -0.04251238, -0.02575568,  0.00796112,\n",
              "         -0.03912268,  0.04616605, -0.00463507,  0.02381155,\n",
              "          0.04622394,  0.01342703],\n",
              "        [-0.03483992, -0.04251238, -0.02575568,  0.00796112,\n",
              "         -0.03912268,  0.04616605, -0.00463507,  0.02381155,\n",
              "          0.04622394,  0.01342703],\n",
              "        [ 0.04036308,  0.00118702,  0.01739726,  0.00426097,\n",
              "          0.01394546, -0.03161149,  0.01747653, -0.04898744,\n",
              "         -0.01412336,  0.04394903],\n",
              "        [-0.01998975, -0.00060261,  0.03072299,  0.03799469,\n",
              "         -0.0231609 , -0.00151956, -0.01562337, -0.03940134,\n",
              "          0.04108012, -0.00782319],\n",
              "        [ 0.03178569,  0.00889397,  0.03034687,  0.04686023,\n",
              "         -0.04091197, -0.00496893,  0.03253493,  0.04988842,\n",
              "          0.02917843, -0.01522108],\n",
              "        [ 0.02764305, -0.01694107, -0.0131529 ,  0.00291067,\n",
              "         -0.00059843, -0.04840947, -0.00112633,  0.01885159,\n",
              "          0.03626844, -0.02040632],\n",
              "        [ 0.04036308,  0.00118702,  0.01739726,  0.00426097,\n",
              "          0.01394546, -0.03161149,  0.01747653, -0.04898744,\n",
              "         -0.01412336,  0.04394903],\n",
              "        [ 0.04464823, -0.02524573,  0.02447085,  0.03826797,\n",
              "         -0.02902873,  0.0256644 , -0.04179735,  0.03050072,\n",
              "          0.02462096, -0.04585942]],\n",
              "\n",
              "       [[-0.03483992, -0.04251238, -0.02575568,  0.00796112,\n",
              "         -0.03912268,  0.04616605, -0.00463507,  0.02381155,\n",
              "          0.04622394,  0.01342703],\n",
              "        [-0.03483992, -0.04251238, -0.02575568,  0.00796112,\n",
              "         -0.03912268,  0.04616605, -0.00463507,  0.02381155,\n",
              "          0.04622394,  0.01342703],\n",
              "        [-0.03483992, -0.04251238, -0.02575568,  0.00796112,\n",
              "         -0.03912268,  0.04616605, -0.00463507,  0.02381155,\n",
              "          0.04622394,  0.01342703],\n",
              "        [-0.04567841,  0.00218513,  0.00440103, -0.02407558,\n",
              "         -0.00371237, -0.03808819, -0.03675627,  0.03243778,\n",
              "          0.01881728, -0.00449372],\n",
              "        [-0.02770467, -0.04702792, -0.0259782 ,  0.03830678,\n",
              "          0.02803702,  0.01396311,  0.01025025, -0.02085781,\n",
              "         -0.03322235, -0.00640583],\n",
              "        [ 0.03456922,  0.04610002, -0.00756644,  0.00781382,\n",
              "         -0.03294808,  0.02866462,  0.00426855, -0.03618472,\n",
              "         -0.00093047,  0.01924756],\n",
              "        [ 0.03178569,  0.00889397,  0.03034687,  0.04686023,\n",
              "         -0.04091197, -0.00496893,  0.03253493,  0.04988842,\n",
              "          0.02917843, -0.01522108],\n",
              "        [ 0.03383989,  0.03364183,  0.03880392,  0.02865562,\n",
              "         -0.04257429,  0.04154081, -0.02222142,  0.00299085,\n",
              "         -0.02897344,  0.0422379 ],\n",
              "        [-0.04307627, -0.04073706, -0.01814268,  0.0291535 ,\n",
              "          0.04610832,  0.01479342, -0.02062835, -0.02848917,\n",
              "          0.03483418,  0.03488541],\n",
              "        [-0.01390467,  0.0349784 ,  0.03753999,  0.01465409,\n",
              "          0.04593904,  0.01851184, -0.01524665, -0.01769879,\n",
              "         -0.00691723, -0.02735742]],\n",
              "\n",
              "       [[-0.03483992, -0.04251238, -0.02575568,  0.00796112,\n",
              "         -0.03912268,  0.04616605, -0.00463507,  0.02381155,\n",
              "          0.04622394,  0.01342703],\n",
              "        [-0.03483992, -0.04251238, -0.02575568,  0.00796112,\n",
              "         -0.03912268,  0.04616605, -0.00463507,  0.02381155,\n",
              "          0.04622394,  0.01342703],\n",
              "        [-0.03483992, -0.04251238, -0.02575568,  0.00796112,\n",
              "         -0.03912268,  0.04616605, -0.00463507,  0.02381155,\n",
              "          0.04622394,  0.01342703],\n",
              "        [-0.03483992, -0.04251238, -0.02575568,  0.00796112,\n",
              "         -0.03912268,  0.04616605, -0.00463507,  0.02381155,\n",
              "          0.04622394,  0.01342703],\n",
              "        [ 0.03169327, -0.04762065, -0.00189124, -0.00061052,\n",
              "          0.03782027,  0.02049467, -0.0476181 ,  0.02799895,\n",
              "         -0.00233125, -0.04508853],\n",
              "        [ 0.03178569,  0.00889397,  0.03034687,  0.04686023,\n",
              "         -0.04091197, -0.00496893,  0.03253493,  0.04988842,\n",
              "          0.02917843, -0.01522108],\n",
              "        [ 0.03383989,  0.03364183,  0.03880392,  0.02865562,\n",
              "         -0.04257429,  0.04154081, -0.02222142,  0.00299085,\n",
              "         -0.02897344,  0.0422379 ],\n",
              "        [-0.04307627, -0.04073706, -0.01814268,  0.0291535 ,\n",
              "          0.04610832,  0.01479342, -0.02062835, -0.02848917,\n",
              "          0.03483418,  0.03488541],\n",
              "        [-0.04228673, -0.03372597, -0.0286412 ,  0.01058789,\n",
              "          0.02977658, -0.03852548, -0.03541376,  0.00241598,\n",
              "          0.02181992, -0.04161911],\n",
              "        [-0.03025656, -0.02314855,  0.01642844,  0.02199788,\n",
              "         -0.02108266, -0.01877728, -0.03020036, -0.03043643,\n",
              "         -0.02982186,  0.01881465]]], dtype=float32)"
            ]
          },
          "metadata": {},
          "execution_count": 62
        }
      ]
    },
    {
      "cell_type": "code",
      "source": [],
      "metadata": {
        "id": "nXoFzP_K-QvF"
      },
      "execution_count": null,
      "outputs": []
    }
  ]
}